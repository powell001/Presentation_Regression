{
 "cells": [
  {
   "cell_type": "markdown",
   "metadata": {},
   "source": [
    "# Overview\n",
    "\n",
    "1. Test the tools to download, munge, model and compare various methods to forecast crop yields.\n",
    "1. Flexibility in terms of the years, states, methods and crops used. "
   ]
  },
  {
   "cell_type": "markdown",
   "metadata": {},
   "source": [
    "# Goal\n",
    "\n",
    "1. Our goal is to build a basic soybean yield model to predict the coming year's yield of that crop.  We will use features such as temperature (avg) and precipitation, US state, NDVI (measure of quality), podcount and test a shift operator to test the hypothesis that technolical change in the last few years has significantly, on linearly, increased yields"
   ]
  },
  {
   "cell_type": "markdown",
   "metadata": {},
   "source": [
    "1. Yearly yields:\n",
    "    \n",
    "    <font size=\"3\"> $$ Yields_{y} \\sim Year + PodCount_{m} + State_{y} + Temp_{m} + Precip_{m} + Quality_{m} + Droughts_{m} + Shift + error_{y} $$ </font>\n",
    "    "
   ]
  },
  {
   "cell_type": "markdown",
   "metadata": {},
   "source": [
    "# Long-term Goals:\n",
    "1. Automate process of modeling yield forecasts and other analyses.\n",
    "2. Incorporate global data.\n",
    "3. Provide a range of forecasts for comparison."
   ]
  },
  {
   "cell_type": "markdown",
   "metadata": {},
   "source": [
    "# Immediate Goals:\n",
    "1. Use US data to forecast soybean yields.\n",
    "2. Automate downloading of data and model scoring.\n",
    "3. Provide figures.\n",
    "4. Test and compare several forecasting methods."
   ]
  },
  {
   "cell_type": "markdown",
   "metadata": {},
   "source": [
    "# <u>Features</u>"
   ]
  },
  {
   "cell_type": "markdown",
   "metadata": {},
   "source": [
    "## Yields (What we want to explain)\n",
    "\n",
    "### Hypothsis: Historical yields are a good indicator of future yields.\n",
    "\n",
    "1. Plots clearly show a significant trend.\n",
    "2. Nonlinear (quadratic) term picks up rate of increase.\n",
    "3. Look at all major soybean producing states.\n",
    "4. Not accounting for irrigated vs not irrigated, data not good enough."
   ]
  },
  {
   "cell_type": "markdown",
   "metadata": {},
   "source": [
    "## Pod Count\n",
    "\n",
    "### Hypothesis: A good intermediate pod count indicates a good final yield.\n",
    "\n",
    "1. We aren't interested in the final pod count, rather the intermediate counts as a way to predict the final yields (which is highly related to the count).\n",
    "2. So we need the pod counts for several intermediate months.\n",
    "3. Available on a monthly basis, starting late in the year (Sep?).\n",
    "\n"
   ]
  },
  {
   "cell_type": "markdown",
   "metadata": {},
   "source": [
    "## Weather Features\n",
    "\n",
    "1. Min\n",
    "2. Max\n",
    "3. Precip\n",
    "\n",
    "### These are our main features besides Year.\n",
    "\n",
    "1. Bad weather in particular months will damage the soybean crops.  \n",
    "2. Try to identify patterns in extreme events.\n",
    "3. Polynomials and interactions."
   ]
  },
  {
   "cell_type": "markdown",
   "metadata": {},
   "source": [
    "## Quality of Crop\n",
    "1. This is another feature examining the quality of a crop at a particular moment.\n",
    "2. Available on a semi-weekly basis. \n",
    "3. Not many years available and rather spotty.  John suggested that the quality of these measures isn't good, are there other measures?\n",
    "\n"
   ]
  },
  {
   "cell_type": "markdown",
   "metadata": {},
   "source": [
    "## Drought Measures\n",
    "1. PDSI\n",
    "2. PHDI\n",
    "3. PM\n",
    "4. PZ\n"
   ]
  },
  {
   "cell_type": "markdown",
   "metadata": {},
   "source": [
    "### Lasso and Ridge regression\n",
    "\n",
    "1. Let the model choose the most important features.\n",
    "2. Play with the hyperparameters."
   ]
  },
  {
   "cell_type": "markdown",
   "metadata": {},
   "source": [
    "## Things to try\n",
    "\n",
    "1. Ran initial models to get a feel for the data.\n",
    "2. Tried simple models based on weather variables.\n",
    "3. Add quality features.\n",
    "4. Add irrigated vs non-irrigated.\n",
    "5. Added drought features.\n",
    "6. VIF to eliminate multi-collinearity.\n",
    "3. Try all data, use Lasso, Ridge."
   ]
  },
  {
   "cell_type": "markdown",
   "metadata": {},
   "source": [
    "# <u>Modeling Process</u>"
   ]
  },
  {
   "cell_type": "markdown",
   "metadata": {},
   "source": [
    "1. Notebooks to download each feature and put the data into a \"model ready\" state.\n",
    "    Presentation_01/features\n",
    "        a. NASS yield and acre data\n",
    "        b. NASS quality measure\n",
    "        c. NASS pod count\n",
    "        d. NOAA precip, max, min temp\n",
    "        e. NOAA drought measure\n",
    "    Munged data sent to another file\n",
    "2. A notebook to combine features (joinFeatures.ipynb).\n",
    "    Presentation_01/joinFeatures.ipynb\n",
    "3. A notebook to perform model selection, e.g. ridge and lasso regressions (featureSelection.iypnb).\n",
    "    Presentation_01/featureSelection.ipynb\n",
    "4. This notebook, which loops over various years and states, performs regressions, and summarize and compares outputs.\n",
    "    Presentation_0b1/Project_MainFile.ipynb\n",
    "5. A helper_Functions.ipynb to hold functions that will otherwise obscure more relevant code. \n",
    "    Presentation_01/helper_Functions.ipynb"
   ]
  },
  {
   "cell_type": "markdown",
   "metadata": {},
   "source": [
    "# <u>Models</u>"
   ]
  },
  {
   "cell_type": "markdown",
   "metadata": {},
   "source": [
    "### Imports and general settings"
   ]
  },
  {
   "cell_type": "code",
   "execution_count": 14,
   "metadata": {},
   "outputs": [],
   "source": [
    "import ipynb\n",
    "import statsmodels.api as sm\n",
    "import statsmodels.formula.api as smf\n",
    "import numpy as np\n",
    "from statsmodels.tsa.arima_model import ARIMA\n",
    "from statsmodels.graphics.regressionplots import plot_leverage_resid2\n",
    "import matplotlib.pyplot as plt\n",
    "import warnings\n",
    "import pandas as pd\n",
    "warnings.filterwarnings('ignore')\n",
    "from ipynb.fs.full.joinFeatures import mergedData\n",
    "from ipynb.fs.full.helper_Functions import descriptions1, mse1, mae1, myLasso\n",
    "\n",
    "#Scikit learn\n",
    "from sklearn.feature_selection import VarianceThreshold\n",
    "#from sklearn.svm import LinearSV\n",
    "from sklearn import linear_model \n",
    "from sklearn.feature_selection import SelectFromModel\n",
    "from sklearn.datasets import load_iris\n",
    "from sklearn.feature_selection import SelectKBest\n",
    "from sklearn.feature_selection import chi2\n",
    "from sklearn.preprocessing import PolynomialFeatures\n"
   ]
  },
  {
   "cell_type": "markdown",
   "metadata": {},
   "source": [
    "### Import merged data, combine based on year key."
   ]
  },
  {
   "cell_type": "code",
   "execution_count": 15,
   "metadata": {},
   "outputs": [
    {
     "name": "stdout",
     "output_type": "stream",
     "text": [
      "model_allStates_pmdi1.csv\n",
      "model_allStates_minTemp1.csv\n",
      "model_allStates_precip.csv\n",
      "model_allStates_quality.csv\n",
      "model_allStates_zndx1.csv\n",
      "model_allStates_pdsi1.csv\n",
      "model_allStates_podcount.csv\n",
      "model_allStates_yields.csv\n",
      "model_allStates_maxTemp1.csv\n"
     ]
    }
   ],
   "source": [
    "allData1 = mergedData()"
   ]
  },
  {
   "cell_type": "markdown",
   "metadata": {},
   "source": [
    "### Add dummy variable"
   ]
  },
  {
   "cell_type": "code",
   "execution_count": 16,
   "metadata": {},
   "outputs": [],
   "source": [
    "allData1[\"YearDummy2005\"] = 0\n",
    "allData1.loc[allData1.Year > 2005, 'YearDummy2005'] = 1\n",
    "\n",
    "allData1[\"YearDummy1980\"] = 0\n",
    "allData1.loc[allData1.Year > 1980, 'YearDummy1980'] = 1\n",
    "\n",
    "allData1[\"YearDummy2013\"] = 0\n",
    "allData1.loc[allData1.Year > 2013, 'YearDummy2013'] = 1"
   ]
  },
  {
   "cell_type": "markdown",
   "metadata": {},
   "source": [
    "### Which states and years to train and test"
   ]
  },
  {
   "cell_type": "code",
   "execution_count": 20,
   "metadata": {},
   "outputs": [],
   "source": [
    "testYear  = 2015 #build model on years before this year, this is the training set\n",
    "startYear = 1800 #grab all years\n",
    "finalYear = 2021\n",
    "\n",
    "#statesofInterest = ['IOWA', 'INDIANA', 'ILLINOIS', 'KANSAS', 'MINNESOTA', 'MISSOURI', 'NEBRASKA', 'NORTH DAKOTA', 'SOUTH DAKOTA', 'OHIO']\n",
    "statesofInterest = ['IOWA', 'INDIANA', 'ILLINOIS', 'MINNESOTA', 'OHIO']\n",
    "statesofInterest = ['OHIO']"
   ]
  },
  {
   "cell_type": "markdown",
   "metadata": {},
   "source": [
    "### Start loops over model per state"
   ]
  },
  {
   "cell_type": "code",
   "execution_count": 21,
   "metadata": {},
   "outputs": [
    {
     "name": "stdout",
     "output_type": "stream",
     "text": [
      "state:  IOWA\n"
     ]
    },
    {
     "ename": "TypeError",
     "evalue": "'NoneType' object is not iterable",
     "output_type": "error",
     "traceback": [
      "\u001b[0;31m---------------------------------------------------------------------------\u001b[0m",
      "\u001b[0;31mTypeError\u001b[0m                                 Traceback (most recent call last)",
      "\u001b[0;32m<ipython-input-21-2b54c875d66a>\u001b[0m in \u001b[0;36m<module>\u001b[0;34m\u001b[0m\n\u001b[1;32m    154\u001b[0m     }\n\u001b[1;32m    155\u001b[0m \u001b[0;34m\u001b[0m\u001b[0m\n\u001b[0;32m--> 156\u001b[0;31m     \u001b[0mmodel\u001b[0m\u001b[0;34m,\u001b[0m \u001b[0mpredictions\u001b[0m \u001b[0;34m=\u001b[0m \u001b[0mmyLasso\u001b[0m\u001b[0;34m(\u001b[0m\u001b[0mtrainData\u001b[0m\u001b[0;34m,\u001b[0m \u001b[0mtestData\u001b[0m\u001b[0;34m,\u001b[0m \u001b[0mmatrices\u001b[0m\u001b[0;34m[\u001b[0m\u001b[0mstate1\u001b[0m\u001b[0;34m]\u001b[0m\u001b[0;34m,\u001b[0m \u001b[0malphas1\u001b[0m\u001b[0;34m[\u001b[0m\u001b[0mstate1\u001b[0m\u001b[0;34m]\u001b[0m\u001b[0;34m,\u001b[0m \u001b[0mmyMinValues\u001b[0m\u001b[0;34m[\u001b[0m\u001b[0mstate1\u001b[0m\u001b[0;34m]\u001b[0m\u001b[0;34m)\u001b[0m\u001b[0;34m\u001b[0m\u001b[0;34m\u001b[0m\u001b[0m\n\u001b[0m\u001b[1;32m    157\u001b[0m \u001b[0;34m\u001b[0m\u001b[0m\n\u001b[1;32m    158\u001b[0m     \u001b[0mdf1\u001b[0m \u001b[0;34m=\u001b[0m \u001b[0mpd\u001b[0m\u001b[0;34m.\u001b[0m\u001b[0mDataFrame\u001b[0m\u001b[0;34m(\u001b[0m\u001b[0;34m{\u001b[0m\u001b[0;34m\"AutoLasso\"\u001b[0m \u001b[0;34m:\u001b[0m \u001b[0mpredictions\u001b[0m\u001b[0;34m}\u001b[0m\u001b[0;34m)\u001b[0m\u001b[0;34m\u001b[0m\u001b[0;34m\u001b[0m\u001b[0m\n",
      "\u001b[0;31mTypeError\u001b[0m: 'NoneType' object is not iterable"
     ]
    }
   ],
   "source": [
    "stateResults = []\n",
    "verbose1 = False\n",
    "for index1, state1 in enumerate(statesofInterest):\n",
    "    myGuesses = []\n",
    "    \n",
    "    if verbose1 == False:\n",
    "        # print(\"index: \", index1)\n",
    "        print(\"state: \", state1)\n",
    "    \n",
    "    stData = allData1[allData1[\"State\"] == state1]\n",
    "    trainData = stData[stData[\"Year\"] < testYear]\n",
    "    testData = stData[stData[\"Year\"]  >= testYear]\n",
    "    \n",
    "    if verbose1 == True:\n",
    "         print(\"train: \", trainData.shape)\n",
    "         print(\"train: \", testData.shape)    \n",
    "    \n",
    "    ########## Real ##########\n",
    "    myGuesses.append(pd.DataFrame({\"Observed\": testData[\"Yield\"]}))\n",
    "    \n",
    "    ########## Year Only ##########\n",
    "    model = smf.ols('Yield ~ Year', data=trainData).fit()\n",
    "    predictions =  model.predict(testData) # predict out of sample()\n",
    "    \n",
    "    myGuesses.append(pd.DataFrame({\"year_only\" : predictions}))\n",
    "    \n",
    "    if verbose1 == True:\n",
    "        descriptions1(\"year_only\", model, predictions)\n",
    "    \n",
    "    \n",
    "    ########## Year + Year² ##########\n",
    "    model = smf.ols('Yield ~ Year + I(Year**2) + YearDummy2013', data=trainData).fit()\n",
    "    predictions =  model.predict(testData) # predict out of sample\n",
    "    \n",
    "    myGuesses.append(pd.DataFrame({\"year__sq\" : predictions}))\n",
    "    \n",
    "    if verbose1 == True:\n",
    "        descriptions1(\"year_sq\", model, predictions)\n",
    "        \n",
    "    ########## Max Temps ##########\n",
    "    model = smf.ols('Yield ~ Year + I(Year**2) + Maxtemp_Jun + Maxtemp_Jul + Maxtemp_Aug', data=trainData).fit()\n",
    "    predictions =  model.predict(testData) # predict out of sample\n",
    "    \n",
    "    myGuesses.append(pd.DataFrame({\"maxTemps\" : predictions}))\n",
    "    \n",
    "    if verbose1 == True:\n",
    "        descriptions1(\"maxTemp\", model, predictions)       \n",
    "        \n",
    "        \n",
    "    ########## Precip ##########\n",
    "    model = smf.ols('Yield ~ Year + I(Year**2) + Precip_Jun + Precip_Jul + Precip_Aug', data=trainData).fit()\n",
    "    predictions =  model.predict(testData) # predict out of sample\n",
    "    \n",
    "    myGuesses.append(pd.DataFrame({\"precip\" : predictions}))\n",
    "    \n",
    "    if verbose1 == True:\n",
    "        descriptions1(\"Precip\", model, predictions)  \n",
    "        \n",
    "        \n",
    "    ########## Precip + maxTemp ##########\n",
    "    model = smf.ols('Yield ~ Year + I(Year**2) + Precip_Jul + Precip_Aug + Maxtemp_Jul + Maxtemp_Aug', data=trainData).fit()\n",
    "    predictions =  model.predict(testData) # predict out of sample\n",
    "    \n",
    "    myGuesses.append(pd.DataFrame({\"precip_temp\" : predictions}))\n",
    "    \n",
    "    if verbose1 == True:\n",
    "        descriptions1(\"Precip_Temp\", model, predictions)    \n",
    "        \n",
    "        \n",
    "    ########## Precip + maxTemp + comb ##########\n",
    "    model = smf.ols('Yield ~ Year + I(Year**2) + Precip_Jul + Precip_Aug + Maxtemp_Jul + Maxtemp_Aug + I(Precip_Aug**2) + I(Precip_Jul*Precip_Aug)', data=trainData).fit()\n",
    "    predictions =  model.predict(testData) # predict out of sample\n",
    "    \n",
    "    myGuesses.append(pd.DataFrame({\"precip_temp_comb\" : predictions}))\n",
    "    \n",
    "    if verbose1 == True:\n",
    "        descriptions1(\"Precip_Temp_Comb\", model, predictions)            \n",
    "                       \n",
    "    ########## Lasso ##############################        \n",
    "    model = smf.ols('Yield ~ YearDummy2013 + Year  + I(Year**2) + I(Maxtemp_Aug**2) + I(Precip_Jun**3) + I(Precip_Jun*Precip_Jul**2) + I(Precip_Jun*Maxtemp_Jun**2) + \\\n",
    "    I(Precip_Jul**3) + I(Precip_Jul**2 * Precip_Aug) + I(Precip_Jul*Precip_Aug**2) + I(Precip_Jul*Maxtemp_Jun**2)+I(Precip_Aug*Maxtemp_Aug**2)' , data=trainData).fit()\n",
    "    predictions =  model.predict(testData) # predict out of sample\n",
    "    \n",
    "    myGuesses.append(pd.DataFrame({\"Lasso\" : predictions}))\n",
    "    \n",
    "    if verbose1 == True:\n",
    "        descriptions1(\"Lasso\", model, predictions)  \n",
    "                \n",
    "        \n",
    "    ########## Lasso2 ##############################        \n",
    "    model = smf.ols('Yield ~ YearDummy2013 + Year + I(Year**2) + I(Year*Pmdi1_Aug) + I(Year*Mintemp_Aug) + \\\n",
    "                     I(Year*Precip_May) + I(Year*Precip_Aug) + I(Year*Maxtemp_Jun) + I(Year*Maxtemp_Aug)' , data=trainData).fit()\n",
    "    predictions =  model.predict(testData) # predict out of sample\n",
    "    \n",
    "    myGuesses.append(pd.DataFrame({\"Lasso2\" : predictions}))\n",
    "    \n",
    "    if verbose1 == True:\n",
    "        descriptions1(\"Lasso2\", model, predictions)     \n",
    "    \n",
    "    \n",
    "    ########## ARIMA ##########    \n",
    "    # ARIMA\n",
    "    series = trainData[\"Yield\"] \n",
    "    trainData[\"Precip_Aug_sq\"] = trainData[\"Precip_Aug\"] * trainData[\"Precip_Aug\"] \n",
    "    trainData[\"Year_sq\"] = trainData[\"Year\"] * trainData[\"Year\"] \n",
    "    \n",
    "    \n",
    "    testData[\"Precip_Aug_sq\"] = testData[\"Precip_Aug\"] * testData[\"Precip_Aug\"] \n",
    "    testData[\"Year_sq\"] = testData[\"Year\"] * testData[\"Year\"] \n",
    "    \n",
    "    myExog = trainData[[\"Precip_Aug\", \"Maxtemp_Aug\"]]\n",
    "    exog_forecast = testData[[\"Precip_Aug\", \"Maxtemp_Aug\"]]\n",
    "    \n",
    "    order1 = sm.tsa.SARIMAX(series, exog=myExog, order=(3, 1, 0), trend='t')\n",
    "    model = order1.fit()\n",
    "\n",
    "    predictions = model.forecast(finalYear - testYear, exog=exog_forecast, dynamic= True)\n",
    "    df1 = pd.DataFrame({\"arima\" : predictions})\n",
    "    df1[\"Year\"] = list(range(testYear, 2021))\n",
    "    df1.set_index(\"Year\", drop = True, inplace=True)\n",
    "    \n",
    "    myGuesses.append(df1)\n",
    "    \n",
    "    if verbose1 == True:\n",
    "        descriptions1(\"ARIMA\", model, predictions)    \n",
    "    \n",
    "    \n",
    "    ########## Lasso ##########    \n",
    "    # Lasso\n",
    "    mat1 = [\"Yield\", \"Year\", \"YearDummy2013\", \"Precip_Aug\", \"Maxtemp_Aug\",  \"Maxtemp_Jun\", \"Precip_Jun\", \"Maxtemp_Jul\", \"Precip_Jul\"]\n",
    "    \n",
    "    matrices = {\n",
    "        \"IOWA\":      [\"Yield\", \"Year\", \"Maxtemp_Jun\", \"Maxtemp_Jul\", \"Maxtemp_Aug\", \"Precip_Jun\",\"Precip_Jul\", \"Precip_Aug\"],\n",
    "        \"INDIANA\":   [\"Yield\", \"Year\", \"YearDummy2013\", \"Maxtemp_Jun\", \"Maxtemp_Jul\", \"Maxtemp_Aug\", \"Precip_Jun\",\"Precip_Jul\", \"Precip_Aug\"],\n",
    "        \"ILLINOIS\":  [\"Yield\", \"Year\", \"YearDummy2013\", \"Maxtemp_Jun\", \"Maxtemp_Jul\", \"Maxtemp_Aug\", \"Precip_Jun\",\"Precip_Jul\", \"Precip_Aug\"],\n",
    "        \"MINNESOTA\": [\"Yield\", \"Year\", \"Maxtemp_Jun\", \"Maxtemp_Jul\", \"Maxtemp_Aug\", \"Precip_Jun\",\"Precip_Jul\", \"Precip_Aug\"],\n",
    "        \"OHIO\":      [\"Yield\", \"Year\", \"Precip_Jul\", \"Precip_Aug\"]\n",
    "    }\n",
    "\n",
    "    alphas1 = {\n",
    "      \"IOWA\":      5000,\n",
    "      \"INDIANA\":   1500,\n",
    "      \"ILLINOIS\":  2000,\n",
    "      \"MINNESOTA\": 3000,\n",
    "      \"OHIO\":      300  \n",
    "    }\n",
    "    \n",
    "    myMinValues = {\n",
    "      \"IOWA\":      1e-7,\n",
    "      \"INDIANA\":   1e-7,\n",
    "      \"ILLINOIS\":  1e-7,\n",
    "      \"MINNESOTA\": 1e-7,\n",
    "      \"OHIO\":      1e-7  \n",
    "    }\n",
    "    \n",
    "    model, predictions = myLasso(trainData, testData, matrices[state1], alphas1[state1], myMinValues[state1])\n",
    "    \n",
    "    df1 = pd.DataFrame({\"AutoLasso\" : predictions})\n",
    "    df1[\"Year\"] = list(range(testYear, 2021))\n",
    "    df1.set_index(\"Year\", drop = True, inplace=True)\n",
    "    \n",
    "    myGuesses.append(df1)\n",
    "    \n",
    "    if verbose1 == False:\n",
    "        descriptions1(\"AutoLasso\", model, predictions)\n",
    "    \n",
    "    \n",
    "    ####Print yield\n",
    "    stData[\"Yield\"].plot()\n",
    "    \n",
    "    \n",
    "    #####Combine\n",
    "    stateResults.append(pd.concat(myGuesses, axis=1))\n",
    "    "
   ]
  },
  {
   "cell_type": "markdown",
   "metadata": {},
   "source": [
    "### Compare models for each state using MAE and MSE\n",
    "1. There are other measures which can be used to assess model performance.\n",
    "2. The basic idea for all measures is the same, how does the model forecast per year compare to the real value in the same year.\n",
    "3. Allows us to compare model performance."
   ]
  },
  {
   "cell_type": "code",
   "execution_count": null,
   "metadata": {},
   "outputs": [],
   "source": [
    "myResults = []\n",
    "for index2, j in enumerate(stateResults):\n",
    "\n",
    "    df1 = j\n",
    "    print(statesofInterest[index2])\n",
    "    \n",
    "    ans1 = []\n",
    "    for i in df1.columns:\n",
    "        ans1.append(mse1(df1[\"Observed\"], df1[i]))\n",
    "    df1.loc[\"Mse\"] = ans1\n",
    "    \n",
    "    ans1 = []\n",
    "    for i in df1.columns:\n",
    "        ans1.append(mae1(df1[\"Observed\"], df1[i]))   \n",
    "    df1.loc[\"Mae\"] = ans1\n",
    "\n",
    "    df1['State'] = statesofInterest[index2]\n",
    "    pd.set_option('precision', 1)\n",
    "\n",
    "    myResults.append(df1)"
   ]
  },
  {
   "cell_type": "markdown",
   "metadata": {},
   "source": [
    "### Forecasts\n",
    "1. Year column, these are the years we are forecasting based on model built in previous years.\n",
    "2. State column, all states a forecasted individually.\n",
    "3. Observed column is the real or realized value.\n",
    "4. All other columns are models."
   ]
  },
  {
   "cell_type": "code",
   "execution_count": null,
   "metadata": {},
   "outputs": [],
   "source": [
    "for i in myResults:\n",
    "     display(i)"
   ]
  },
  {
   "cell_type": "code",
   "execution_count": null,
   "metadata": {},
   "outputs": [],
   "source": []
  }
 ],
 "metadata": {
  "kernelspec": {
   "display_name": "venv python36",
   "language": "python",
   "name": "python36"
  },
  "language_info": {
   "codemirror_mode": {
    "name": "ipython",
    "version": 3
   },
   "file_extension": ".py",
   "mimetype": "text/x-python",
   "name": "python",
   "nbconvert_exporter": "python",
   "pygments_lexer": "ipython3",
   "version": "3.6.9"
  }
 },
 "nbformat": 4,
 "nbformat_minor": 4
}
